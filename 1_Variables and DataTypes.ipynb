{
 "cells": [
  {
   "cell_type": "markdown",
   "metadata": {},
   "source": [
    "# Assignment Instructions\n",
    "\n",
    "`Hello Innominion,`\n",
    "\n",
    "- **Try to attempt all the questions in every possible way.**\n",
    "- **Some other topics are required to solve some questions. don't panic.**\n",
    "- **Those questions can be answered after the topics are taught.**\n",
    "\n",
    "\n",
    "- `Join Mentoring Session for the Support/Doubts Resolving with Our Technical Mentors (2.00 PM - 6.00 PM  Mon-Sat)` \n",
    "\n",
    "Happy Learning !!!"
   ]
  },
  {
   "cell_type": "markdown",
   "metadata": {},
   "source": [
    "## Basics of Python"
   ]
  },
  {
   "cell_type": "markdown",
   "metadata": {},
   "source": [
    "> `Question:` Print your name"
   ]
  },
  {
   "cell_type": "code",
   "execution_count": 1,
   "metadata": {},
   "outputs": [
    {
     "name": "stdout",
     "output_type": "stream",
     "text": [
      "my name ie Innomatics\n"
     ]
    }
   ],
   "source": [
    "# CODE HERE\n",
    "print(\"my name ie Innomatics\")"
   ]
  },
  {
   "cell_type": "markdown",
   "metadata": {},
   "source": [
    "> `Question:` What is a variable? Write a Few words about Variables. Create a Variable with an Example. "
   ]
  },
  {
   "cell_type": "code",
   "execution_count": 4,
   "metadata": {},
   "outputs": [],
   "source": [
    "# WRITE HERE\n",
    "variable is a container whivh holdw the value,\n",
    "variables are nothing but reservrd memory locations to store values,ie when we create variable we reserve some spaces in\n",
    "the memory\n",
    "variables can be defined with alphabets,alphanumeric and one special character \"_\"\n",
    "can not be defined with like innitialised with a digit followed by alphabet(1a,2b,etc) and special characters"
   ]
  },
  {
   "cell_type": "code",
   "execution_count": 2,
   "metadata": {},
   "outputs": [],
   "source": [
    "# Code Here\n",
    "a=10\n",
    "b=\"hello\""
   ]
  },
  {
   "cell_type": "markdown",
   "metadata": {},
   "source": [
    ">`Question:` Assume that we execute the following assignment statements:\n",
    "width = 17\n",
    "height = 12.0\n",
    "delimiter = '.'\n",
    "For each of the following expressions, write the value of the expression and the type (of the value of\n",
    "the expression).\n",
    "1. width/2\n",
    "2. width/2.0\n",
    "3. height/3\n",
    "4. 1 + 2 * 5\n",
    "5. delimiter * 5"
   ]
  },
  {
   "cell_type": "code",
   "execution_count": 3,
   "metadata": {},
   "outputs": [
    {
     "name": "stdout",
     "output_type": "stream",
     "text": [
      "width/2 =  8.5\n",
      "width/2.0 =  8.5\n",
      "height/3 =  4.0\n",
      "11\n",
      ".....\n"
     ]
    }
   ],
   "source": [
    "# CODE HERE\n",
    "w=17\n",
    "h=12.0\n",
    "print(\"width/2 = \",w/2)\n",
    "print(\"width/2.0 = \",w/2)\n",
    "print(\"height/3 = \",h/3)\n",
    "print(1+(2*5))\n",
    "print(\".\"*5)"
   ]
  },
  {
   "cell_type": "raw",
   "metadata": {},
   "source": [
    "# Sample Outputs\n",
    "1. width/2 = 8.5\n",
    "2. width/2.0 = 8.5\n",
    "3. height/3 = 4.0\n",
    "4. 11\n",
    "5. ....."
   ]
  },
  {
   "cell_type": "markdown",
   "metadata": {},
   "source": [
    "> `Question:` Add two number by taking variable names as first and seccond"
   ]
  },
  {
   "cell_type": "code",
   "execution_count": null,
   "metadata": {},
   "outputs": [],
   "source": [
    "#CODE HERE"
   ]
  },
  {
   "cell_type": "code",
   "execution_count": 4,
   "metadata": {},
   "outputs": [
    {
     "name": "stdout",
     "output_type": "stream",
     "text": [
      "first number is :  100\n",
      "second number is :  200\n",
      "Addition of 2 numbers are : 300\n"
     ]
    }
   ],
   "source": [
    "a=100\n",
    "b=200\n",
    "print(\"first number is : \",a)\n",
    "print(\"second number is : \",b)\n",
    "print(\"Addition of 2 numbers are :\",a+b)"
   ]
  },
  {
   "cell_type": "markdown",
   "metadata": {},
   "source": [
    "> `Question:` Add your first name and second name"
   ]
  },
  {
   "cell_type": "code",
   "execution_count": 9,
   "metadata": {},
   "outputs": [],
   "source": [
    "# CODE HERE"
   ]
  },
  {
   "cell_type": "code",
   "execution_count": 5,
   "metadata": {},
   "outputs": [
    {
     "name": "stdout",
     "output_type": "stream",
     "text": [
      "my first name is : Sachin\n",
      "my second name is : Tendulkar\n",
      "my full name is : Sachin Tendulkar\n"
     ]
    }
   ],
   "source": [
    "f_name=\"Sachin\"\n",
    "s_name=\"Tendulkar\"\n",
    "print(\"my first name is :\",f_name)\n",
    "print(\"my second name is :\",s_name)\n",
    "print(\"my full name is :\",f_name,s_name)\n"
   ]
  },
  {
   "cell_type": "code",
   "execution_count": 7,
   "metadata": {},
   "outputs": [
    {
     "name": "stdout",
     "output_type": "stream",
     "text": [
      "my first name is : Sachin\n",
      "my second name is : Tendulkar\n",
      "my full name is Sachin Tendulkar\n"
     ]
    }
   ],
   "source": [
    "f_name=\"Sachin\"\n",
    "s_name=\"Tendulkar\"\n",
    "print(\"my first name is :\",f_name)\n",
    "print(\"my second name is :\",s_name)\n",
    "print(\"my full name is {} {}\".format(f_name,s_name))"
   ]
  },
  {
   "cell_type": "markdown",
   "metadata": {},
   "source": [
    "> `Question:` print the datatypes of the following\n",
    "- 10,'10',True,10.5"
   ]
  },
  {
   "cell_type": "code",
   "execution_count": 16,
   "metadata": {},
   "outputs": [],
   "source": [
    "# CODE HERE\n",
    "a=10\n"
   ]
  },
  {
   "cell_type": "code",
   "execution_count": 17,
   "metadata": {},
   "outputs": [
    {
     "name": "stdout",
     "output_type": "stream",
     "text": [
      "<class 'int'>\n",
      "<class 'str'>\n",
      "<class 'bool'>\n",
      "<class 'float'>\n"
     ]
    }
   ],
   "source": [
    "print(type(10))\n",
    "print(type('10'))\n",
    "print(type(True))\n",
    "print(type(10.5))"
   ]
  },
  {
   "cell_type": "markdown",
   "metadata": {},
   "source": [
    " `Question:` \n",
    "> - num_int = 123\n",
    "> - num_str = \"456\"\n",
    "> - Add num_int and num_str\n",
    "- `hint: first need to convert num_str into integer`"
   ]
  },
  {
   "cell_type": "code",
   "execution_count": 14,
   "metadata": {},
   "outputs": [],
   "source": [
    "# CODE HERE"
   ]
  },
  {
   "cell_type": "code",
   "execution_count": 18,
   "metadata": {},
   "outputs": [
    {
     "name": "stdout",
     "output_type": "stream",
     "text": [
      "Addition of 123 and 456 is : 579\n"
     ]
    }
   ],
   "source": [
    "n=123\n",
    "str=\"456\"\n",
    "S=int(str)\n",
    "print(\"Addition of 123 and 456 is :\",n+S)"
   ]
  },
  {
   "cell_type": "code",
   "execution_count": null,
   "metadata": {},
   "outputs": [],
   "source": []
  },
  {
   "cell_type": "markdown",
   "metadata": {},
   "source": [
    "### Advanced Questions"
   ]
  },
  {
   "cell_type": "markdown",
   "metadata": {},
   "source": [
    "> `Question:` The volume of a sphere with radius r is  4/3πr3  . What is the volume of a sphere with radius 5?"
   ]
  },
  {
   "cell_type": "code",
   "execution_count": 19,
   "metadata": {},
   "outputs": [
    {
     "name": "stdout",
     "output_type": "stream",
     "text": [
      "Volume of sphere of radius 5 = 524.4999999999999\n"
     ]
    }
   ],
   "source": [
    "# CODE HERE\n",
    "#Volume of sphere with with radius r=5\n",
    "r=5\n",
    "pi=3.147\n",
    "v=4/3*pi*r*r*r\n",
    "print(\"Volume of sphere of radius 5 =\",v)\n"
   ]
  },
  {
   "cell_type": "markdown",
   "metadata": {},
   "source": [
    "> `Question:` Suppose the cover price of a book is Rs.24.95, but bookstores get a 40% discount. Shipping costs Rs.3 for the first copy and 75 paise for each additional copy. What is the total wholesale cost for 60 copies?"
   ]
  },
  {
   "cell_type": "code",
   "execution_count": null,
   "metadata": {},
   "outputs": [],
   "source": [
    "# CODE HERE"
   ]
  },
  {
   "cell_type": "code",
   "execution_count": 1,
   "metadata": {},
   "outputs": [
    {
     "name": "stdout",
     "output_type": "stream",
     "text": [
      "price of 1 copy after discount is  14.97\n",
      "price of 1 copy with shipping is 17.97\n",
      "price of remaining 59 copies is  1104.48\n",
      "wholesale cost of all copies 1122.45\n"
     ]
    }
   ],
   "source": [
    "bp=24.95\n",
    "disc=40\n",
    "p1=bp*60/100\n",
    "print(\"price of 1 copy after discount is \",p1)\n",
    "sp=3\n",
    "p2=p1+sp\n",
    "print(\"price of 1 copy with shipping is\",p2)\n",
    "p3=(p2+.75)*59\n",
    "print(\"price of remaining 59 copies is \",p3)\n",
    "print(\"wholesale cost of all copies\",p2+p3)"
   ]
  },
  {
   "cell_type": "code",
   "execution_count": null,
   "metadata": {},
   "outputs": [],
   "source": []
  },
  {
   "cell_type": "markdown",
   "metadata": {},
   "source": [
    "# [Innomatics Research Labs](https:/innomatics.in/)\n",
    "[www.innomatics.in](https:/innomatics.in/)"
   ]
  }
 ],
 "metadata": {
  "kernelspec": {
   "display_name": "Python 3 (ipykernel)",
   "language": "python",
   "name": "python3"
  },
  "language_info": {
   "codemirror_mode": {
    "name": "ipython",
    "version": 3
   },
   "file_extension": ".py",
   "mimetype": "text/x-python",
   "name": "python",
   "nbconvert_exporter": "python",
   "pygments_lexer": "ipython3",
   "version": "3.9.12"
  }
 },
 "nbformat": 4,
 "nbformat_minor": 2
}
